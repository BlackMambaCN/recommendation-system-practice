{
 "cells": [
  {
   "cell_type": "markdown",
   "metadata": {},
   "source": [
    "TF-IDF词频逆文档频率，一般用来提取文章中的关键词。\n",
    "\n",
    "1. 数据清洗，分词\n",
    "2. 字典与语料库的构建\n",
    "    \n",
    "    - 字典就是词字典，格式\n",
    "    `dict = [(w1,id),(w2,id),(w3,id),...,(wn,id)]`\n",
    "    - 语料的格式，对应文本在字典中生成，格式\n",
    "    \n",
    "    corpus = [\n",
    "        [\n",
    "            #doc1\n",
    "            (w,id),(w,id),(w,id).....(w,id)\n",
    "        ],[\n",
    "            #doc2\n",
    "            (w,id),(w,id),....(w,id)\n",
    "        ],\n",
    "        ......[\n",
    "            #doc_n\n",
    "        ]\n",
    "    ]\n",
    "`\n",
    "    \n",
    "3. "
   ]
  },
  {
   "cell_type": "code",
   "execution_count": 85,
   "metadata": {},
   "outputs": [],
   "source": [
    "import jieba\n",
    "import gensim\n",
    "from gensim import corpora"
   ]
  },
  {
   "cell_type": "code",
   "execution_count": 94,
   "metadata": {},
   "outputs": [
    {
     "data": {
      "text/plain": [
       "\"\\n[['i', 'come', 'to', 'china', 'to', 'travel'],\\n ['this', 'is', 'a', 'car', 'polupar', 'in', 'china'],\\n ...\\n\""
      ]
     },
     "execution_count": 94,
     "metadata": {},
     "output_type": "execute_result"
    }
   ],
   "source": [
    "# 生成字典\n",
    "corpus=[\"I come to China to travel\", \n",
    "      \"This is a car polupar in China\",          \n",
    "     \"I love tea and Apple\",   \n",
    "     \"The work is to write some papers in science\"] \n",
    "\n",
    "docs = [[w for w in d.lower().split()] for d in corpus]\n",
    "'''\n",
    "[['i', 'come', 'to', 'china', 'to', 'travel'],\n",
    " ['this', 'is', 'a', 'car', 'polupar', 'in', 'china'],\n",
    " ...\n",
    "'''"
   ]
  },
  {
   "cell_type": "code",
   "execution_count": 95,
   "metadata": {},
   "outputs": [
    {
     "name": "stdout",
     "output_type": "stream",
     "text": [
      "dictionary:  Dictionary(21 unique tokens: ['china', 'come', 'i', 'to', 'travel']...)\n",
      "dictionary.token2id:  {'china': 0, 'come': 1, 'i': 2, 'to': 3, 'travel': 4, 'a': 5, 'car': 6, 'in': 7, 'is': 8, 'polupar': 9, 'this': 10, 'and': 11, 'apple': 12, 'love': 13, 'tea': 14, 'papers': 15, 'science': 16, 'some': 17, 'the': 18, 'work': 19, 'write': 20}\n"
     ]
    }
   ],
   "source": [
    "# 构造字典\n",
    "dictionary = corpora.Dictionary(docs)\n",
    "print('dictionary: ', dictionary)\n",
    "print('dictionary.token2id: ', dictionary.token2id)"
   ]
  },
  {
   "cell_type": "code",
   "execution_count": 99,
   "metadata": {},
   "outputs": [
    {
     "data": {
      "text/plain": [
       "'\\n[[(0, 1), (1, 1), (2, 1), (3, 2), (4, 1)],\\n [(0, 1), (5, 1), (6, 1), (7, 1), (8, 1), (9, 1), (10, 1)],\\n ...\\n'"
      ]
     },
     "execution_count": 99,
     "metadata": {},
     "output_type": "execute_result"
    }
   ],
   "source": [
    "bow_corpus = [dictionary.doc2bow(doc) for doc in docs]\n",
    "'''\n",
    "[[(0, 1), (1, 1), (2, 1), (3, 2), (4, 1)],\n",
    " [(0, 1), (5, 1), (6, 1), (7, 1), (8, 1), (9, 1), (10, 1)],\n",
    " ...\n",
    "'''"
   ]
  },
  {
   "cell_type": "code",
   "execution_count": 103,
   "metadata": {},
   "outputs": [],
   "source": [
    "tfidf = gensim.models.TfidfModel(bow_corpus)\n",
    "tfidf_corpus = tfidf[bow_corpus]"
   ]
  },
  {
   "cell_type": "code",
   "execution_count": 106,
   "metadata": {},
   "outputs": [
    {
     "name": "stdout",
     "output_type": "stream",
     "text": [
      "[(1, 0.5345224838248488), (3, 0.5345224838248488), (4, 0.5345224838248488), (0, 0.2672612419124244), (2, 0.2672612419124244)]\n",
      "china come i to travel\n",
      "[(5, 0.4588314677411235), (6, 0.4588314677411235), (9, 0.4588314677411235), (10, 0.4588314677411235), (0, 0.22941573387056174), (7, 0.22941573387056174), (8, 0.22941573387056174)]\n",
      "china come i to travel a car\n",
      "[(11, 0.48507125007266594), (12, 0.48507125007266594), (13, 0.48507125007266594), (14, 0.48507125007266594), (2, 0.24253562503633297)]\n",
      "china come i to travel\n",
      "[(15, 0.3849001794597505), (16, 0.3849001794597505), (17, 0.3849001794597505), (18, 0.3849001794597505), (19, 0.3849001794597505), (20, 0.3849001794597505), (3, 0.19245008972987526), (7, 0.19245008972987526), (8, 0.19245008972987526)]\n",
      "china come i to travel a car in is\n"
     ]
    }
   ],
   "source": [
    "for doc in tfidf_corpus:\n",
    "    # 根据tfidf值进行排序\n",
    "    print(sorted(doc, key = lambda x: x[1], reverse=True))\n",
    "    sorted_list = sorted(doc, key = lambda x: x[1], reverse=True)\n",
    "    key_words = []\n",
    "    for d in range(len(sorted_list)):\n",
    "        key_words.append(dictionary[d])\n",
    "    print(' '.join(key_words))"
   ]
  }
 ],
 "metadata": {
  "kernelspec": {
   "display_name": "Python 3",
   "language": "python",
   "name": "python3"
  },
  "language_info": {
   "codemirror_mode": {
    "name": "ipython",
    "version": 3
   },
   "file_extension": ".py",
   "mimetype": "text/x-python",
   "name": "python",
   "nbconvert_exporter": "python",
   "pygments_lexer": "ipython3",
   "version": "3.6.8"
  }
 },
 "nbformat": 4,
 "nbformat_minor": 2
}
