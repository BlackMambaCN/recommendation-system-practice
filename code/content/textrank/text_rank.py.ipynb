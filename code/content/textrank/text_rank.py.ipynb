{
 "cells": [
  {
   "cell_type": "markdown",
   "metadata": {},
   "source": [
    "### PageRank\n",
    "\n",
    "PageRank用来计算网页的重要度，整个万维网可以看做一张有向有权图。PageRank公式如下：\n",
    "<img src=\"./imgs/textrank.png\" width = \"400\" height = \"400\" />\n",
    "S(Vi)是网页i的重要性（PR值）。d是阻尼系数，一般设置为0.85，In(Vi)是链接到网页i的网页集合。Out(Vj)是网页j指向的网页的网页集合。|Out(Vj)|是集合中元素的个数。\n",
    "\n",
    "\n",
    "### TextRank\n",
    "\n",
    "TextRank算法基于PageRank，用于生成文本关键字和文本摘要。它是一种用于文本的基于图的排序算法。基本思想是将文本分割成若干组成单元（单词、句子）并建立图模型，利用投票机制对文本的重要成分进行排序。\n",
    "\n",
    "TextRank仅利用单篇文档的信息就可以实现关键词提取，文档摘要。与LDA、HMM等模型不同，TextRank不需要事先对多篇文档进行学习，因其简介有效而被广泛使用。\n",
    "\n",
    "TextRank是一个有向有权图G = <V, E>，由点集合和边集合E组成，E是VxV的子集。In(Vi)是指向节点i的点集合，Out(Vi)节点Vi指向的点集合。\n",
    "\n",
    "$S(V_{i}) = (1-d)+d*\\sum_{V_{j}\\in In(V_{i})}\\frac{W_{ji}}{\\sum{V_{k}\\in Out{(V_{j})}}w_{jk}}S(V_{j})$\n",
    "\n",
    "其中，d为阻尼系数，取值范围为0到1，代表从图中特征点指向其他任意点的概率，一般为0.85。使用TextRank计算图中各点得分时，需要先指定任意初值，并递归计算直到收敛。即图中任意一点误差率小于给定阈值即收敛，改阈值可以取0.0001。\n",
    "\n",
    "#### 基于TextRank的关键词提取\n",
    "TextRank利用局部词汇之间的关系（共现窗口）对后续关键词进行排序，直接从文档中抽取。主要步骤：\n",
    "\n",
    "- 1.将文本T分割成句子集合。$T = [S_{1}, S_{2}, ... S_{n}]$\n",
    "- 2.对每个句子$S_{i}$，进行分词和词性标注处理，过滤停用词，保留固定词性的单词，如：名词、动词、形容词。此时，一个句子所组成的单词可以表示为$S_{i} = [t_{i,1}, t_{i,2},...t_{i,n}]$，设窗口大小为k，则在这个句子中$t_{i,1}, t_{i,2}...t_{i,k}$与$t_{i,2},t_{i,3}...t_{i,k+1}$等都是一个窗口，一个窗口中任意两个单词之间存在一条无向无权的边。\n",
    "- 3.基于节点和边构成图，计算每个节点的重要性，最重要的若干单词就是该文本的关键词。"
   ]
  },
  {
   "cell_type": "code",
   "execution_count": 11,
   "metadata": {},
   "outputs": [],
   "source": [
    "import codecs\n",
    "import numpy as np\n",
    "from textrank4zh import TextRank4Keyword, TextRank4Sentence"
   ]
  },
  {
   "cell_type": "code",
   "execution_count": 12,
   "metadata": {},
   "outputs": [],
   "source": [
    "data = codecs.open('./news.txt', 'r', 'utf-8').read()"
   ]
  },
  {
   "cell_type": "code",
   "execution_count": 31,
   "metadata": {},
   "outputs": [
    {
     "name": "stdout",
     "output_type": "stream",
     "text": [
      "关键词权重为：\n",
      "时代 : 0.0206\n",
      "中国 : 0.0175\n",
      "文化 : 0.0142\n",
      "新 : 0.0133\n",
      "艺术 : 0.0124\n",
      "人民 : 0.0090\n",
      "民族 : 0.0088\n",
      "精品 : 0.0086\n",
      "工作 : 0.0077\n",
      "说 : 0.0074\n",
      "关键短语为：\n",
      "新时代\n",
      "中国精神\n",
      "博物馆建设\n",
      "新时代精品\n",
      "文化发展\n",
      "中国文化\n",
      "新中国\n",
      "组织工作\n"
     ]
    }
   ],
   "source": [
    "w_model = TextRank4Keyword()\n",
    "w_model.analyze(text=data, lower=True, window=2)\n",
    "\n",
    "print(\"关键词权重为：\")\n",
    "for item in w_model.get_keywords(10, word_min_len=1):\n",
    "    print(\"%s : %.4f\" % (item.word, item.weight))\n",
    "    \n",
    "print(\"关键短语为：\")\n",
    "for phrase in w_model.get_keyphrases(keywords_num=15, min_occur_num=1):\n",
    "    print(phrase)"
   ]
  },
  {
   "cell_type": "code",
   "execution_count": 32,
   "metadata": {},
   "outputs": [
    {
     "name": "stdout",
     "output_type": "stream",
     "text": [
      "摘要：\n",
      "2 , 0.0527 : 习近平总书记看望参加全国政协十三届二次会议的文化艺术界、社会科学界委员时的重要讲话，激励广大文化文艺工作者和哲学社会科学工作者以更加坚定的文化自信，积极投身为时代画像、为时代立传、为时代明德的生动实践，为实现中华民族伟大复兴的中国梦凝心聚力\n",
      "1 , 0.0458 : 坚定文化自信、把握时代脉搏、聆听时代声音，坚持与时代同步伐、以人民为中心、以精品奉献人民、用明德引领风尚\n",
      "34 , 0.0427 : 中国文艺评论家协会主席仲呈祥的话道出广大文艺、社科工作者的心声：“坚持用中国理论解读中国实践，坚持讲好中国文化的优秀历史传统、文化积淀，坚守中华文化立场、传承中华文化基因、彰显中华美学精神，正本清源、守正创新，走一条具有中国特色、中国精神、中国风格、中国气派的社会主义文化发展道路\n"
     ]
    }
   ],
   "source": [
    "s_model = TextRank4Sentence()\n",
    "s_model.analyze(text=data, lower=True, source='all_filters')\n",
    "\n",
    "print(\"摘要：\")\n",
    "for item in s_model.get_key_sentences(num=3):\n",
    "    print(\"%d , %.4f : %s\" % (item.index, item.weight, item.sentence))"
   ]
  },
  {
   "cell_type": "markdown",
   "metadata": {},
   "source": [
    "##### 标题对比\n",
    "\n",
    "新闻题目：把握`时代`脉搏　聆听`时代声音`——落实全国`两会`精神`坚定文化自信`\n",
    "\n",
    "提取摘要：习近平总书记看望参加`全国政协十三届二次会议`的文化艺术界、社会科学界委员时的重要讲话，激励广大文化文艺工作者和哲学社会科学工作者以更加`坚定的文化自信`，积极投身为`时代画像、为时代立传、为时代明德`的生动实践，为实现中华民族伟大复兴的中国梦凝心聚力"
   ]
  },
  {
   "cell_type": "markdown",
   "metadata": {},
   "source": [
    "相关阅读\n",
    "\n",
    "和textrank4ZH代码一模一样的算法详细解读\n",
    "https://www.cnblogs.com/www-caiyin-com/p/9719897.html\n",
    "\n",
    "【资源聚合平台进度总结】Word2Vec+TextRank实现摘要生成技术\n",
    "https://blog.csdn.net/mottled233/article/details/80699040"
   ]
  },
  {
   "cell_type": "code",
   "execution_count": null,
   "metadata": {},
   "outputs": [],
   "source": []
  }
 ],
 "metadata": {
  "kernelspec": {
   "display_name": "Python 3",
   "language": "python",
   "name": "python3"
  },
  "language_info": {
   "codemirror_mode": {
    "name": "ipython",
    "version": 3
   },
   "file_extension": ".py",
   "mimetype": "text/x-python",
   "name": "python",
   "nbconvert_exporter": "python",
   "pygments_lexer": "ipython3",
   "version": "3.6.8"
  }
 },
 "nbformat": 4,
 "nbformat_minor": 2
}
