{
 "cells": [
  {
   "cell_type": "code",
   "execution_count": 8,
   "metadata": {},
   "outputs": [],
   "source": [
    "import math\n",
    "import time\n",
    "import random"
   ]
  },
  {
   "cell_type": "code",
   "execution_count": 7,
   "metadata": {},
   "outputs": [
    {
     "name": "stdout",
     "output_type": "stream",
     "text": [
      "this is a test\n",
      "--> RUN TIME: <test> : 0.0001690387725830078\n"
     ]
    }
   ],
   "source": [
    "def timmer(func):\n",
    "    \"\"\" 装饰器，监控运行时间 \"\"\"\n",
    "    def wrapper(*args, **kwargs):\n",
    "        before_time = time.time()\n",
    "        f = func(*args, **kwargs)\n",
    "        print(\"--> RUN TIME: <%s> : %s\" % (func.__name__, time.time() - before_time))\n",
    "        return f\n",
    "    return wrapper\n",
    "\n",
    "@timmer\n",
    "def test():\n",
    "    print(\"this is a test\")\n",
    "    \n",
    "test()"
   ]
  },
  {
   "cell_type": "code",
   "execution_count": 17,
   "metadata": {},
   "outputs": [
    {
     "data": {
      "text/plain": [
       "3"
      ]
     },
     "execution_count": 17,
     "metadata": {},
     "output_type": "execute_result"
    }
   ],
   "source": [
    "random.randint(0, 3)"
   ]
  },
  {
   "cell_type": "code",
   "execution_count": 18,
   "metadata": {},
   "outputs": [],
   "source": [
    "def DataProcessing():\n",
    "    \"\"\" 数据预处理类 \"\"\"\n",
    "    def loadData(data_path):\n",
    "        \"\"\" 载入数据 \"\"\"\n",
    "        pass\n",
    "    \n",
    "    def splitData(data, M, k, seed=2019):\n",
    "        \"\"\" 每次实验选取不同的k和相同的随机种子，进行M次实验取平均，可防止过拟合。\n",
    "            Args:\n",
    "                M M折\n",
    "                k 0<=k<=M-1，每次实验均不同\n",
    "                seed 随机种子\n",
    "            Return: \n",
    "                train 训练集\n",
    "                test 测试集\n",
    "        \"\"\"\n",
    "        test = []\n",
    "        train = []\n",
    "        random.seed(seed)\n",
    "        for user, item in data:\n",
    "            if random.randint(0, M-1) == k:\n",
    "                test.append([user, item])\n",
    "            else:\n",
    "                train.append([user,item])\n",
    "        return train, test\n",
    "    "
   ]
  },
  {
   "cell_type": "markdown",
   "metadata": {},
   "source": [
    "$Recall = \\frac{\\sum_{u}|R(u)\\bigcap T(u)|}{\\sum_{u}|T(u)|}$"
   ]
  },
  {
   "cell_type": "code",
   "execution_count": null,
   "metadata": {},
   "outputs": [],
   "source": []
  },
  {
   "cell_type": "code",
   "execution_count": 36,
   "metadata": {},
   "outputs": [],
   "source": [
    "def Evaluate():\n",
    "    def getRecommendation(user, N):\n",
    "        \"\"\" 对user推荐N个物品 \"\"\"\n",
    "        pass\n",
    "    \n",
    "    \"\"\" 常用评估指标 \"\"\"\n",
    "    def recall(train, test, N):\n",
    "        \"\"\" 召回率 \"\"\"\n",
    "        hit = 0\n",
    "        all = 0\n",
    "        for user in train.keys():\n",
    "            tu = test[user]\n",
    "            rank = GetRecommendation(user, N)\n",
    "            for item, pui in rank:\n",
    "                if item in tu:\n",
    "                    hit += 1\n",
    "            all += len(tu)\n",
    "        return hit / (all * 1.0)\n",
    "    \n",
    "    def precision(train, test, N):\n",
    "        \"\"\" 精确率 \"\"\"\n",
    "        hit = 0\n",
    "        all = 0\n",
    "        for user in train,keys():\n",
    "            tu = test[user]\n",
    "            rank = GetRecommendation(user, N)\n",
    "            for item, pui in rank:\n",
    "                if item in tu:\n",
    "                    hit += 1\n",
    "            all += N\n",
    "        return hit / (all * 1.0)\n",
    "    \n",
    "    def coverage(train, test, N):\n",
    "        \"\"\" 覆盖率 \"\"\"\n",
    "        recommend_items = set()\n",
    "        all_items = set()\n",
    "        for user in train.keys():\n",
    "            for item in train[user].keys():\n",
    "                all_items.add(item)\n",
    "            rank = self.getRecommendation(user, N)\n",
    "            for item, pui in rank:\n",
    "                recommend_items.add(item)\n",
    "        return len(recommend_items) / (len(all_items) * 1.0)\n",
    "    \n",
    "    def popularity(train, test, N):\n",
    "        \"\"\" 流行度 \"\"\"\n",
    "        item_popularity = {}\n",
    "        for user, items in train.items():\n",
    "            for item in items.keys():\n",
    "                if item not in item_popularity:\n",
    "                    item_popularity[item] = 0\n",
    "                item_popularity[item] += 1\n",
    "        ret = 0\n",
    "        n = 0\n",
    "        for user in train.keys():\n",
    "            rank = self.getRecommendation(user , N)\n",
    "            for item, pui in rank:\n",
    "                ret += math.log(1 + item_popularity[item])\n",
    "                n += 1\n",
    "        ret /= n * 1.0\n",
    "        return ret"
   ]
  }
 ],
 "metadata": {
  "kernelspec": {
   "display_name": "Python 3",
   "language": "python",
   "name": "python3"
  },
  "language_info": {
   "codemirror_mode": {
    "name": "ipython",
    "version": 3
   },
   "file_extension": ".py",
   "mimetype": "text/x-python",
   "name": "python",
   "nbconvert_exporter": "python",
   "pygments_lexer": "ipython3",
   "version": "3.6.8"
  }
 },
 "nbformat": 4,
 "nbformat_minor": 2
}
