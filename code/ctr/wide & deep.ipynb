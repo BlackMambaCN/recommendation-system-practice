{
 "cells": [
  {
   "cell_type": "markdown",
   "metadata": {},
   "source": [
    "wide and deep 模型是Tensorflow在2016年6月左右发布的一类用于分类和回归问题的模型，应用在Google Play的应用推荐中。wide and deep的核心思想是结合线性模型的记忆能力和DNN模型的泛化能力。在训练过程中同时优化2个模型的参数，从而整体模型的预测能力最优。\n",
    "\n",
    "<img src=\"./imgs/wide & deep.png\" width = \"550\" height = \"550\" />\n",
    "\n",
    "- wide端\n",
    "对应线性模型，输入特征是连续特征，也可以是稀疏的离散特征，离散特征经过交叉后可以构成更高维的离散特征。线性模型经过L1正则化，可以快速收敛，保留有效特征。\n",
    "\n",
    "- deep端\n",
    "对应的是DNN模型，每个特征对应一个低纬稠密向量，我们称之为特征的embedding。wide and deep整个模型的输出时线性模型输出与DNN模型输出的叠加。\n",
    "\n",
    "\n",
    "使用Wide & Deep模型完成点击率预估"
   ]
  },
  {
   "cell_type": "code",
   "execution_count": 80,
   "metadata": {},
   "outputs": [
    {
     "name": "stdout",
     "output_type": "stream",
     "text": [
      "tf.__version__:  1.12.0\n"
     ]
    }
   ],
   "source": [
    "import os \n",
    "import math\n",
    "import itertools\n",
    "import numpy as np\n",
    "import pandas as pd\n",
    "from sklearn.preprocessing import LabelEncoder\n",
    "\n",
    "import tensorflow as tf\n",
    "from tensorflow import keras\n",
    "layers = keras.layers\n",
    "\n",
    "# tensorflow版本\n",
    "print(\"tf.__version__: \", tf.__version__)"
   ]
  },
  {
   "cell_type": "code",
   "execution_count": 105,
   "metadata": {},
   "outputs": [],
   "source": [
    "URL = \"https://storage.googleapis.com/sara-cloud-ml/wine_data.csv\"\n",
    "path = tf.keras.utils.get_file(URL.split('/')[-1], URL)"
   ]
  },
  {
   "cell_type": "code",
   "execution_count": 106,
   "metadata": {},
   "outputs": [
    {
     "name": "stdout",
     "output_type": "stream",
     "text": [
      "data.shape:  (150929, 11)\n"
     ]
    },
    {
     "data": {
      "text/html": [
       "<div>\n",
       "<style scoped>\n",
       "    .dataframe tbody tr th:only-of-type {\n",
       "        vertical-align: middle;\n",
       "    }\n",
       "\n",
       "    .dataframe tbody tr th {\n",
       "        vertical-align: top;\n",
       "    }\n",
       "\n",
       "    .dataframe thead th {\n",
       "        text-align: right;\n",
       "    }\n",
       "</style>\n",
       "<table border=\"1\" class=\"dataframe\">\n",
       "  <thead>\n",
       "    <tr style=\"text-align: right;\">\n",
       "      <th></th>\n",
       "      <th>Unnamed: 0</th>\n",
       "      <th>country</th>\n",
       "      <th>description</th>\n",
       "      <th>designation</th>\n",
       "      <th>points</th>\n",
       "      <th>price</th>\n",
       "      <th>province</th>\n",
       "      <th>region_1</th>\n",
       "      <th>region_2</th>\n",
       "      <th>variety</th>\n",
       "      <th>winery</th>\n",
       "    </tr>\n",
       "  </thead>\n",
       "  <tbody>\n",
       "    <tr>\n",
       "      <th>14964</th>\n",
       "      <td>14964</td>\n",
       "      <td>France</td>\n",
       "      <td>Full, soft and rounded, this shows flavors of ...</td>\n",
       "      <td>NaN</td>\n",
       "      <td>89</td>\n",
       "      <td>35.0</td>\n",
       "      <td>Provence</td>\n",
       "      <td>Côtes de Provence</td>\n",
       "      <td>NaN</td>\n",
       "      <td>Rosé</td>\n",
       "      <td>Château d'Esclans</td>\n",
       "    </tr>\n",
       "    <tr>\n",
       "      <th>135556</th>\n",
       "      <td>135556</td>\n",
       "      <td>Italy</td>\n",
       "      <td>Sangiovese with 25% Merlot for added softness ...</td>\n",
       "      <td>Poggio alla Badiola</td>\n",
       "      <td>87</td>\n",
       "      <td>15.0</td>\n",
       "      <td>Tuscany</td>\n",
       "      <td>Toscana</td>\n",
       "      <td>NaN</td>\n",
       "      <td>Sangiovese</td>\n",
       "      <td>Mazzei</td>\n",
       "    </tr>\n",
       "  </tbody>\n",
       "</table>\n",
       "</div>"
      ],
      "text/plain": [
       "        Unnamed: 0 country                                        description  \\\n",
       "14964        14964  France  Full, soft and rounded, this shows flavors of ...   \n",
       "135556      135556   Italy  Sangiovese with 25% Merlot for added softness ...   \n",
       "\n",
       "                designation  points  price  province           region_1  \\\n",
       "14964                   NaN      89   35.0  Provence  Côtes de Provence   \n",
       "135556  Poggio alla Badiola      87   15.0   Tuscany            Toscana   \n",
       "\n",
       "       region_2     variety             winery  \n",
       "14964       NaN        Rosé  Château d'Esclans  \n",
       "135556      NaN  Sangiovese             Mazzei  "
      ]
     },
     "execution_count": 106,
     "metadata": {},
     "output_type": "execute_result"
    }
   ],
   "source": [
    "#file_path = './data/wine-reviews/winemag-data_first150k.csv'#'./data/wine-reviews/winemag-data-130k-v2.csv'\n",
    "data = pd.read_csv(path)\n",
    "data = data.sample(frac=1)\n",
    "print('data.shape: ', data.shape)\n",
    "\n",
    "data.head(2)"
   ]
  },
  {
   "cell_type": "markdown",
   "metadata": {},
   "source": [
    "数据预处理\n",
    "\n",
    "variety: 用于酿造葡萄酒的葡萄种类"
   ]
  },
  {
   "cell_type": "code",
   "execution_count": 107,
   "metadata": {},
   "outputs": [],
   "source": [
    "# 做一些数据预处理\n",
    "data = data[pd.notnull(data['country'])]\n",
    "data = data[pd.notnull(data['price'])]\n",
    "data = data.drop(data.columns[0], axis=1)\n",
    "\n",
    "variety_threshold = 500 # 阈值，少于500的原材料会被去掉\n",
    "value_counts = data['variety'].value_counts()\n",
    "remove_indexes = value_counts[value_counts <= variety_threshold].index\n",
    "data.replace(remove_indexes, np.nan, inplace=True)\n",
    "data = data[pd.notnull(data['variety'])]"
   ]
  },
  {
   "cell_type": "code",
   "execution_count": 108,
   "metadata": {},
   "outputs": [
    {
     "data": {
      "text/html": [
       "<div>\n",
       "<style scoped>\n",
       "    .dataframe tbody tr th:only-of-type {\n",
       "        vertical-align: middle;\n",
       "    }\n",
       "\n",
       "    .dataframe tbody tr th {\n",
       "        vertical-align: top;\n",
       "    }\n",
       "\n",
       "    .dataframe thead th {\n",
       "        text-align: right;\n",
       "    }\n",
       "</style>\n",
       "<table border=\"1\" class=\"dataframe\">\n",
       "  <thead>\n",
       "    <tr style=\"text-align: right;\">\n",
       "      <th></th>\n",
       "      <th>country</th>\n",
       "      <th>description</th>\n",
       "      <th>designation</th>\n",
       "      <th>points</th>\n",
       "      <th>price</th>\n",
       "      <th>province</th>\n",
       "      <th>region_1</th>\n",
       "      <th>region_2</th>\n",
       "      <th>variety</th>\n",
       "      <th>winery</th>\n",
       "    </tr>\n",
       "  </thead>\n",
       "  <tbody>\n",
       "    <tr>\n",
       "      <th>14964</th>\n",
       "      <td>France</td>\n",
       "      <td>Full, soft and rounded, this shows flavors of ...</td>\n",
       "      <td>NaN</td>\n",
       "      <td>89</td>\n",
       "      <td>35.0</td>\n",
       "      <td>Provence</td>\n",
       "      <td>Côtes de Provence</td>\n",
       "      <td>NaN</td>\n",
       "      <td>Rosé</td>\n",
       "      <td>Château d'Esclans</td>\n",
       "    </tr>\n",
       "    <tr>\n",
       "      <th>135556</th>\n",
       "      <td>Italy</td>\n",
       "      <td>Sangiovese with 25% Merlot for added softness ...</td>\n",
       "      <td>Poggio alla Badiola</td>\n",
       "      <td>87</td>\n",
       "      <td>15.0</td>\n",
       "      <td>Tuscany</td>\n",
       "      <td>Toscana</td>\n",
       "      <td>NaN</td>\n",
       "      <td>Sangiovese</td>\n",
       "      <td>Mazzei</td>\n",
       "    </tr>\n",
       "  </tbody>\n",
       "</table>\n",
       "</div>"
      ],
      "text/plain": [
       "       country                                        description  \\\n",
       "14964   France  Full, soft and rounded, this shows flavors of ...   \n",
       "135556   Italy  Sangiovese with 25% Merlot for added softness ...   \n",
       "\n",
       "                designation  points  price  province           region_1  \\\n",
       "14964                   NaN      89   35.0  Provence  Côtes de Provence   \n",
       "135556  Poggio alla Badiola      87   15.0   Tuscany            Toscana   \n",
       "\n",
       "       region_2     variety             winery  \n",
       "14964       NaN        Rosé  Château d'Esclans  \n",
       "135556      NaN  Sangiovese             Mazzei  "
      ]
     },
     "execution_count": 108,
     "metadata": {},
     "output_type": "execute_result"
    }
   ],
   "source": [
    "data.head(2)"
   ]
  },
  {
   "cell_type": "code",
   "execution_count": 109,
   "metadata": {},
   "outputs": [
    {
     "name": "stdout",
     "output_type": "stream",
     "text": [
      "train size: 95646\n",
      "Test size: 23912\n"
     ]
    }
   ],
   "source": [
    "# 划分训练集和测试集\n",
    "train_size = int(len(data) * 0.8)\n",
    "print(\"train size: %d\" % train_size)\n",
    "print (\"Test size: %d\" % (len(data) - train_size))"
   ]
  },
  {
   "cell_type": "code",
   "execution_count": 111,
   "metadata": {},
   "outputs": [],
   "source": [
    "# train features, train labels\n",
    "description_train = data['description'][:train_size]\n",
    "variety_train = data['variety'][:train_size]\n",
    "labels_train = data['price'][:train_size]\n",
    "\n",
    "# test features, test labels\n",
    "description_test = data['description'][train_size:]\n",
    "variety_test = data['variety'][train_size:]\n",
    "labels_test = data['price'][train_size:]"
   ]
  },
  {
   "cell_type": "code",
   "execution_count": 112,
   "metadata": {},
   "outputs": [],
   "source": [
    "# 使用tokenizer去预训练文本\n",
    "vocab_size = 12000 \n",
    "tokenizer = keras.preprocessing.text.Tokenizer(num_words=vocab_size, char_level=False)\n",
    "tokenizer.fit_on_texts(description_train)"
   ]
  },
  {
   "cell_type": "markdown",
   "metadata": {},
   "source": [
    "`\n",
    "description_train[0:2]\n",
    "1    This is ripe and fruity, a wine that is smooth...\n",
    "2    Tart and snappy, the flavors of lime flesh and...\n",
    "Name: description, dtype: object\n",
    "`"
   ]
  },
  {
   "cell_type": "code",
   "execution_count": 113,
   "metadata": {},
   "outputs": [],
   "source": [
    "# wide feature 01: bow向量\n",
    "description_bow_train = tokenizer.texts_to_matrix(description_train)\n",
    "description_bow_test = tokenizer.texts_to_matrix(description_test)"
   ]
  },
  {
   "cell_type": "markdown",
   "metadata": {},
   "source": [
    "`\n",
    "description_bow_train[0:2]\n",
    "array([[0., 1., 0., ..., 0., 0., 0.],\n",
    "       [0., 1., 1., ..., 0., 0., 0.]])\n",
    "       `"
   ]
  },
  {
   "cell_type": "code",
   "execution_count": 114,
   "metadata": {},
   "outputs": [],
   "source": [
    "# wide feature 02: one-hot vector of variety categories\n",
    "encoder = LabelEncoder()\n",
    "encoder.fit(variety_train)\n",
    "variety_train = encoder.transform(variety_train) # 由于one-hot向量从0开始，所以classes要加一\n",
    "variety_test = encoder.transform(variety_test)"
   ]
  },
  {
   "cell_type": "code",
   "execution_count": 115,
   "metadata": {},
   "outputs": [],
   "source": [
    "num_classes = np.max(variety_train) + 1\n",
    "\n",
    "# 转换labels为one-hot\n",
    "variety_train = keras.utils.to_categorical(variety_train, num_classes)\n",
    "variety_test = keras.utils.to_categorical(variety_test, num_classes)"
   ]
  },
  {
   "cell_type": "markdown",
   "metadata": {},
   "source": [
    "`\n",
    "variety_train\n",
    "[[0., 0., 0., ..., 0., 0., 0.],\n",
    "[0., 0., 0., ..., 0., 0., 0.],\n",
    "[0., 0., 0., ..., 0., 0., 0.],\n",
    "...,\n",
    "`"
   ]
  },
  {
   "cell_type": "code",
   "execution_count": 116,
   "metadata": {},
   "outputs": [],
   "source": [
    "# wide model\n",
    "bow_inputs = layers.Input(shape=(vocab_size,))\n",
    "variety_inputs = layers.Input(shape=(num_classes,))\n",
    "merged_layer = layers.concatenate([bow_inputs, variety_inputs])\n",
    "merged_layer = layers.Dense(256, activation='relu')(merged_layer)\n",
    "predictions = layers.Dense(1)(merged_layer)\n",
    "\n",
    "wide_model = keras.Model(inputs=[bow_inputs, variety_inputs], outputs=predictions)"
   ]
  },
  {
   "cell_type": "code",
   "execution_count": 117,
   "metadata": {},
   "outputs": [
    {
     "name": "stdout",
     "output_type": "stream",
     "text": [
      "__________________________________________________________________________________________________\n",
      "Layer (type)                    Output Shape         Param #     Connected to                     \n",
      "==================================================================================================\n",
      "input_17 (InputLayer)           (None, 12000)        0                                            \n",
      "__________________________________________________________________________________________________\n",
      "input_18 (InputLayer)           (None, 40)           0                                            \n",
      "__________________________________________________________________________________________________\n",
      "concatenate_9 (Concatenate)     (None, 12040)        0           input_17[0][0]                   \n",
      "                                                                 input_18[0][0]                   \n",
      "__________________________________________________________________________________________________\n",
      "dense_19 (Dense)                (None, 256)          3082496     concatenate_9[0][0]              \n",
      "__________________________________________________________________________________________________\n",
      "dense_20 (Dense)                (None, 1)            257         dense_19[0][0]                   \n",
      "==================================================================================================\n",
      "Total params: 3,082,753\n",
      "Trainable params: 3,082,753\n",
      "Non-trainable params: 0\n",
      "__________________________________________________________________________________________________\n",
      "None\n"
     ]
    }
   ],
   "source": [
    "# 编译模型\n",
    "wide_model.compile(loss='mse', optimizer='adam', metrics=['accuracy'])\n",
    "print(wide_model.summary())"
   ]
  },
  {
   "cell_type": "markdown",
   "metadata": {},
   "source": [
    "`\n",
    "description_train.head()\n",
    "1    This is ripe and fruity, a wine that is smooth...\n",
    "2    Tart and snappy, the flavors of lime flesh and...\n",
    "3    Pineapple rind, lemon pith and orange blossom ...\n",
    "4    Much like the regular bottling from 2012, this...\n",
    "7    This dry and restrained wine offers spice in p...\n",
    "Name: description, dtype: object\n",
    "        `"
   ]
  },
  {
   "cell_type": "code",
   "execution_count": 118,
   "metadata": {},
   "outputs": [],
   "source": [
    "# deep model feature: word embedding of wine description\n",
    "train_embed = tokenizer.texts_to_sequences(description_train)\n",
    "test_embed = tokenizer.texts_to_sequences(description_test)"
   ]
  },
  {
   "cell_type": "markdown",
   "metadata": {},
   "source": [
    "texts_to_sequences: [[6, 7, 27, 1,...]..]"
   ]
  },
  {
   "cell_type": "code",
   "execution_count": 119,
   "metadata": {},
   "outputs": [],
   "source": [
    "max_seq_length = 170\n",
    "train_embed = keras.preprocessing.sequence.pad_sequences(\n",
    "    train_embed, maxlen=max_seq_length, padding=\"post\" # padding 在序列末尾补零\n",
    ")\n",
    "test_embed = keras.preprocessing.sequence.pad_sequences(\n",
    "    test_embed, maxlen=max_seq_length, padding=\"post\"\n",
    ")"
   ]
  },
  {
   "cell_type": "markdown",
   "metadata": {},
   "source": [
    "`\n",
    "train_embed\n",
    "array([[  6,   7,  27, ...,   0,   0,   0],\n",
    "       [104,   1, 904, ...,   0,   0,   0],\n",
    "       [201, 607,  77, ...,   0,   0,   0],\n",
    "       ...,\n",
    "`"
   ]
  },
  {
   "cell_type": "code",
   "execution_count": 120,
   "metadata": {},
   "outputs": [
    {
     "name": "stdout",
     "output_type": "stream",
     "text": [
      "_________________________________________________________________\n",
      "Layer (type)                 Output Shape              Param #   \n",
      "=================================================================\n",
      "input_19 (InputLayer)        (None, 170)               0         \n",
      "_________________________________________________________________\n",
      "embedding_4 (Embedding)      (None, 170, 8)            96000     \n",
      "_________________________________________________________________\n",
      "flatten_4 (Flatten)          (None, 1360)              0         \n",
      "_________________________________________________________________\n",
      "dense_21 (Dense)             (None, 1)                 1361      \n",
      "=================================================================\n",
      "Total params: 97,361\n",
      "Trainable params: 97,361\n",
      "Non-trainable params: 0\n",
      "_________________________________________________________________\n",
      "None\n"
     ]
    }
   ],
   "source": [
    "# deep model\n",
    "deep_inputs = layers.Input(shape=(max_seq_length,))\n",
    "# input_dim: vocab_size(12000) output_dim: 8\n",
    "embedding = layers.Embedding(vocab_size, 8, input_length=max_seq_length)(deep_inputs)\n",
    "embedding = layers.Flatten()(embedding)\n",
    "embed_out = layers.Dense(1)(embedding)\n",
    "deep_model = keras.Model(inputs=deep_inputs, outputs=embed_out)\n",
    "print(deep_model.summary())\n",
    "\n",
    "# 编译模型\n",
    "deep_model.compile(loss='mse', optimizer='adam', metrics=['accuracy'])"
   ]
  },
  {
   "cell_type": "code",
   "execution_count": 121,
   "metadata": {},
   "outputs": [
    {
     "name": "stdout",
     "output_type": "stream",
     "text": [
      "__________________________________________________________________________________________________\n",
      "Layer (type)                    Output Shape         Param #     Connected to                     \n",
      "==================================================================================================\n",
      "input_17 (InputLayer)           (None, 12000)        0                                            \n",
      "__________________________________________________________________________________________________\n",
      "input_18 (InputLayer)           (None, 40)           0                                            \n",
      "__________________________________________________________________________________________________\n",
      "input_19 (InputLayer)           (None, 170)          0                                            \n",
      "__________________________________________________________________________________________________\n",
      "concatenate_9 (Concatenate)     (None, 12040)        0           input_17[0][0]                   \n",
      "                                                                 input_18[0][0]                   \n",
      "__________________________________________________________________________________________________\n",
      "embedding_4 (Embedding)         (None, 170, 8)       96000       input_19[0][0]                   \n",
      "__________________________________________________________________________________________________\n",
      "dense_19 (Dense)                (None, 256)          3082496     concatenate_9[0][0]              \n",
      "__________________________________________________________________________________________________\n",
      "flatten_4 (Flatten)             (None, 1360)         0           embedding_4[0][0]                \n",
      "__________________________________________________________________________________________________\n",
      "dense_20 (Dense)                (None, 1)            257         dense_19[0][0]                   \n",
      "__________________________________________________________________________________________________\n",
      "dense_21 (Dense)                (None, 1)            1361        flatten_4[0][0]                  \n",
      "__________________________________________________________________________________________________\n",
      "concatenate_10 (Concatenate)    (None, 2)            0           dense_20[0][0]                   \n",
      "                                                                 dense_21[0][0]                   \n",
      "__________________________________________________________________________________________________\n",
      "dense_22 (Dense)                (None, 1)            3           concatenate_10[0][0]             \n",
      "==================================================================================================\n",
      "Total params: 3,180,117\n",
      "Trainable params: 3,180,117\n",
      "Non-trainable params: 0\n",
      "__________________________________________________________________________________________________\n",
      "None\n"
     ]
    }
   ],
   "source": [
    "# 合并宽度和深度模型\n",
    "merged_out = layers.concatenate([wide_model.output, deep_model.output])\n",
    "merged_out = layers.Dense(1)(merged_out)\n",
    "\n",
    "combined_model = keras.Model(wide_model.input + [deep_model.input], merged_out)\n",
    "print(combined_model.summary())\n",
    "\n",
    "# 编译\n",
    "combined_model.compile(loss='mse',\n",
    "                      optimizer='adam',\n",
    "                      metrics=['accuracy'])"
   ]
  },
  {
   "cell_type": "code",
   "execution_count": 122,
   "metadata": {},
   "outputs": [
    {
     "name": "stdout",
     "output_type": "stream",
     "text": [
      "Epoch 1/5\n",
      "95646/95646 [==============================] - 75s 789us/step - loss: 1167.7291 - acc: 0.0000e+00\n",
      "Epoch 2/5\n",
      "95646/95646 [==============================] - 76s 792us/step - loss: 910.5253 - acc: 0.0000e+00\n",
      "Epoch 3/5\n",
      "95646/95646 [==============================] - 130s 1ms/step - loss: 772.4950 - acc: 0.0000e+00\n",
      "Epoch 4/5\n",
      "95646/95646 [==============================] - 82s 852us/step - loss: 648.1536 - acc: 0.0000e+00\n",
      "Epoch 5/5\n",
      "95646/95646 [==============================] - 88s 918us/step - loss: 533.6575 - acc: 0.0000e+00\n"
     ]
    },
    {
     "data": {
      "text/plain": [
       "<tensorflow.python.keras.callbacks.History at 0x1a34219208>"
      ]
     },
     "execution_count": 122,
     "metadata": {},
     "output_type": "execute_result"
    }
   ],
   "source": [
    "# 训练\n",
    "combined_model.fit([description_bow_train, variety_train] + [train_embed], labels_train, epochs=5, batch_size=128)"
   ]
  },
  {
   "cell_type": "code",
   "execution_count": 123,
   "metadata": {},
   "outputs": [
    {
     "name": "stdout",
     "output_type": "stream",
     "text": [
      "23912/23912 [==============================] - 23s 952us/step\n"
     ]
    },
    {
     "data": {
      "text/plain": [
       "[753.425784522293, 0.0]"
      ]
     },
     "execution_count": 123,
     "metadata": {},
     "output_type": "execute_result"
    }
   ],
   "source": [
    "# 评估\n",
    "combined_model.evaluate([description_bow_test, variety_test] + [test_embed], labels_test, batch_size=128)"
   ]
  },
  {
   "cell_type": "code",
   "execution_count": 125,
   "metadata": {},
   "outputs": [],
   "source": [
    "# 预测\n",
    "predictions = combined_model.predict([description_bow_test, variety_test] + [test_embed])"
   ]
  },
  {
   "cell_type": "code",
   "execution_count": 126,
   "metadata": {},
   "outputs": [
    {
     "data": {
      "text/plain": [
       "array([[ 14.329004],\n",
       "       [ 17.920763],\n",
       "       [166.70659 ],\n",
       "       ...,\n",
       "       [ 42.538563],\n",
       "       [ 20.129736],\n",
       "       [ 12.247935]], dtype=float32)"
      ]
     },
     "execution_count": 126,
     "metadata": {},
     "output_type": "execute_result"
    }
   ],
   "source": [
    "predictions"
   ]
  },
  {
   "cell_type": "markdown",
   "metadata": {},
   "source": [
    "### 相关阅读\n",
    "\n",
    "使用Keras建立Wide＆Deep神经网络，通过描述预测葡萄酒价格\n",
    "\n",
    "https://cloud.tencent.com/developer/news/197412\n",
    "\n",
    "TensorFlow Wide And Deep 模型详解与应用 \n",
    "\n",
    "https://cloud.tencent.com/developer/article/1143316\n",
    "\n",
    "【论文】Wide & Deep Learning for Recommender Systems\n",
    "\n",
    "https://arxiv.org/pdf/1606.07792.pdf\n"
   ]
  },
  {
   "cell_type": "code",
   "execution_count": null,
   "metadata": {},
   "outputs": [],
   "source": []
  }
 ],
 "metadata": {
  "kernelspec": {
   "display_name": "Python 3",
   "language": "python",
   "name": "python3"
  },
  "language_info": {
   "codemirror_mode": {
    "name": "ipython",
    "version": 3
   },
   "file_extension": ".py",
   "mimetype": "text/x-python",
   "name": "python",
   "nbconvert_exporter": "python",
   "pygments_lexer": "ipython3",
   "version": "3.6.8"
  }
 },
 "nbformat": 4,
 "nbformat_minor": 2
}
