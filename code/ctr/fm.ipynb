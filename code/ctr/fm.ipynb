{
 "cells": [
  {
   "cell_type": "markdown",
   "metadata": {},
   "source": [
    "因子分解机（Factorization Machine, FM）是由Steffen Rendle提出的一种基于矩阵分解的机器学习算法，其主要用于解决数据稀疏的业务场景（如推荐业务），特征怎样组合的问题。FM可以在线性时间训练和预测，是一种非常高效的模型。\n",
    "\n",
    "如何组合特征？\n",
    "\n",
    "$y(X) = w_{0}+\\sum^{n}_{i=1}w_{i}x_{i}+\\sum^{n-1}_{i=1}\\sum^{n}_{j=i+1}w_{ij}x_{i}x_{j}$\n",
    "\n",
    "前半部分LR线性组合，后半部分的交叉项是特征的组合。\n",
    "\n",
    "由公式可以看出，组合特征的参数一共有$\\frac{n(n-1)}{2}$，任意两个参数都是独立的，且每个参数$w_{ij}$的训练都需要大量xi和xj都非零的样本。\n",
    "但往往客观情况可能是训练样本不足且数据比较稀疏，这最终会导致参数不准确，影响模型性能。\n",
    "\n",
    "FM的模型方程为\n",
    "\n",
    "$y(X):=w_{0}+\\sum^{n}_{i=1}w_{i}x_{i}+\\sum^{n-1}_{i=1}\\sum^{n}_{j=i+1}<v_{i},v_{j}>x_{i}x_{j}$\n",
    "\n",
    "其中，$v_{i}$是第i维特征的隐向量，<,>代表向量点积。隐向量的长度为k<<n，二项式参数的特征减少为kxn个。所有包含$x_{i}$的非零组合特征的样本都可以用来学习隐向量$v_{i}$，这避免了数据稀疏性的影响。\n",
    "\n",
    "实现FM & FFM最流行的python库有LibFM、LibFFM、tffm和xlearn。其中，xlearn比libfm和libffm库快的多，并为模型测试和调优提供了更好地功能。"
   ]
  },
  {
   "cell_type": "code",
   "execution_count": 2,
   "metadata": {},
   "outputs": [],
   "source": [
    "import xlearn as xl\n",
    "\n",
    "# Training task\n",
    "ffm_model = xl.create_ffm()                # Use field-aware factorization machine (ffm)\n",
    "ffm_model.setTrain(\"./data/small_train.txt\")    # Set the path of training dataset\n",
    "ffm_model.setValidate(\"./data/small_test.txt\")  # Set the path of validation dataset\n",
    "\n",
    "# Parameters:\n",
    "#  0. task: binary classification\n",
    "#  1. learning rate: 0.2\n",
    "#  2. regular lambda: 0.002\n",
    "#  3. evaluation metric: accuracy\n",
    "param = {'task':'binary', 'lr':0.2, 'lambda':0.002, 'metric':'acc'}\n",
    "\n",
    "# Start to train\n",
    "# The trained model will be stored in model.out\n",
    "ffm_model.fit(param, './data/model.out')\n",
    "\n",
    "# Prediction task\n",
    "ffm_model.setTest(\"./data/small_test.txt\")  # Set the path of test dataset\n",
    "ffm_model.setSigmoid()                 # Convert output to 0-1\n",
    "\n",
    "# Start to predict\n",
    "# The output result will be stored in output.txt\n",
    "ffm_model.predict(\"./data/model.out\", \"./data/output.txt\")"
   ]
  },
  {
   "cell_type": "markdown",
   "metadata": {},
   "source": [
    "相关阅读：\n",
    "\n",
    "推荐系统FM & FFM算法解读与实践 \n",
    "\n",
    "https://blog.csdn.net/baymax_007/article/details/83931698"
   ]
  },
  {
   "cell_type": "code",
   "execution_count": null,
   "metadata": {},
   "outputs": [],
   "source": []
  }
 ],
 "metadata": {
  "kernelspec": {
   "display_name": "Python 3",
   "language": "python",
   "name": "python3"
  },
  "language_info": {
   "codemirror_mode": {
    "name": "ipython",
    "version": 3
   },
   "file_extension": ".py",
   "mimetype": "text/x-python",
   "name": "python",
   "nbconvert_exporter": "python",
   "pygments_lexer": "ipython3",
   "version": "3.6.8"
  }
 },
 "nbformat": 4,
 "nbformat_minor": 2
}
